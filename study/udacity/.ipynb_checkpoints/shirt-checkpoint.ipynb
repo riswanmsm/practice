{
 "cells": [
  {
   "cell_type": "code",
   "execution_count": 1,
   "id": "dbed98ed",
   "metadata": {},
   "outputs": [],
   "source": [
    "class Shirt:\n",
    "    \n",
    "    def __init__(self, color, size, style, price):\n",
    "        self.color = color\n",
    "        self.size = size\n",
    "        self.style = style\n",
    "        self.price = price\n",
    "    \n",
    "    def change_price(self, price):\n",
    "        self.price = price\n",
    "        \n",
    "    def discount(self, discount):\n",
    "        return self.price * (1 - discount) "
   ]
  },
  {
   "cell_type": "code",
   "execution_count": 2,
   "id": "0ba707c8",
   "metadata": {},
   "outputs": [
    {
     "data": {
      "text/plain": [
       "<__main__.Shirt at 0x10c072740>"
      ]
     },
     "execution_count": 2,
     "metadata": {},
     "output_type": "execute_result"
    }
   ],
   "source": [
    "Shirt('blue', 'L', 'Short Sleave', 1500)"
   ]
  },
  {
   "cell_type": "code",
   "execution_count": 3,
   "id": "1aa3ab80",
   "metadata": {},
   "outputs": [],
   "source": [
    "my_shirt = Shirt('White', 'L', 'Long Sleave', 1900)"
   ]
  },
  {
   "cell_type": "code",
   "execution_count": 7,
   "id": "8138c6b7",
   "metadata": {
    "scrolled": true
   },
   "outputs": [
    {
     "name": "stdout",
     "output_type": "stream",
     "text": [
      "White\n",
      "L\n",
      "Long Sleave\n",
      "2000\n"
     ]
    }
   ],
   "source": [
    "print(my_shirt.color)\n",
    "print(my_shirt.size)\n",
    "print(my_shirt.style)\n",
    "print(my_shirt.price)"
   ]
  },
  {
   "cell_type": "code",
   "execution_count": 5,
   "id": "36530a24",
   "metadata": {},
   "outputs": [],
   "source": [
    "my_shirt.change_price(2000)"
   ]
  },
  {
   "cell_type": "code",
   "execution_count": 8,
   "id": "281163c9",
   "metadata": {},
   "outputs": [
    {
     "data": {
      "text/plain": [
       "1800.0"
      ]
     },
     "execution_count": 8,
     "metadata": {},
     "output_type": "execute_result"
    }
   ],
   "source": [
    "my_shirt.discount(10/100)"
   ]
  }
 ],
 "metadata": {
  "kernelspec": {
   "display_name": "Python 3 (ipykernel)",
   "language": "python",
   "name": "python3"
  },
  "language_info": {
   "codemirror_mode": {
    "name": "ipython",
    "version": 3
   },
   "file_extension": ".py",
   "mimetype": "text/x-python",
   "name": "python",
   "nbconvert_exporter": "python",
   "pygments_lexer": "ipython3",
   "version": "3.10.6"
  }
 },
 "nbformat": 4,
 "nbformat_minor": 5
}
